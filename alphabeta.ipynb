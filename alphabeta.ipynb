{
 "cells": [
  {
   "cell_type": "code",
   "execution_count": 1,
   "id": "5269df7a-58ad-4497-a8c1-9c8b1726f777",
   "metadata": {},
   "outputs": [],
   "source": [
    "import chess\n",
    "import chess.engine\n",
    "%run evolve.ipynb"
   ]
  },
  {
   "cell_type": "code",
   "execution_count": 2,
   "id": "ea15d710-14ee-4a03-bcf2-f34f51025403",
   "metadata": {},
   "outputs": [],
   "source": [
    "def board_push(board,move):\n",
    "    board1=board.copy()\n",
    "    board1.push(move)\n",
    "    return board1\n"
   ]
  },
  {
   "cell_type": "code",
   "execution_count": 3,
   "id": "4f7eb6a2-19ec-4525-8581-b8be3dfcedaf",
   "metadata": {},
   "outputs": [],
   "source": [
    "def sortmove(board):\n",
    "    l=list(board.legal_moves)\n",
    "    if board.turn==chess.WHITE:\n",
    "        res=sorted(l,key=lambda move:eval(board_push(board,move)),reverse=True)\n",
    "    else:\n",
    "        res=sorted(l,key=lambda move:eval(board_push(board,move)))\n",
    "    return res\n",
    "\n"
   ]
  },
  {
   "cell_type": "code",
   "execution_count": 4,
   "id": "6e883aa2-3f0e-41e9-9f3a-b9019449f3bc",
   "metadata": {},
   "outputs": [
    {
     "name": "stdout",
     "output_type": "stream",
     "text": [
      "<bound method LegalMoveGenerator.count of <LegalMoveGenerator at 0x1e6f7375ba0 (Nh3, Nf3, Nc3, Na3, h3, g3, f3, e3, d3, c3, b3, a3, h4, g4, f4, e4, d4, c4, b4, a4)>>\n",
      "[Move.from_uci('b2b3'), Move.from_uci('b2b4'), Move.from_uci('f2f4'), Move.from_uci('a2a4'), Move.from_uci('a2a3'), Move.from_uci('d2d4'), Move.from_uci('f2f3'), Move.from_uci('d2d3'), Move.from_uci('c2c4'), Move.from_uci('e2e4'), Move.from_uci('c2c3'), Move.from_uci('g2g4'), Move.from_uci('h2h4'), Move.from_uci('h2h3'), Move.from_uci('g2g3'), Move.from_uci('e2e3'), Move.from_uci('b1a3'), Move.from_uci('g1h3'), Move.from_uci('b1c3'), Move.from_uci('g1f3')]\n"
     ]
    }
   ],
   "source": [
    "board=chess.Board()\n",
    "print(board.legal_moves.count)\n",
    "print(sortmove(board))"
   ]
  },
  {
   "cell_type": "code",
   "execution_count": 7,
   "id": "fcbf4b7e-be1a-4854-965b-b6e4ea15d44b",
   "metadata": {},
   "outputs": [],
   "source": [
    "def bestmove(board,a,b,maxPlayer,maxdepth):\n",
    "    best_move=None\n",
    "    color=board.turn\n",
    "    def alphabeta(board,a,b,maxPlayer,depth):\n",
    "        nonlocal  best_move\n",
    "        if depth ==0 or board.is_game_over(): \n",
    "          #  if not color:\n",
    "             #   return -eval(board)\n",
    "            return eval(board)\n",
    "        if maxPlayer:\n",
    "            v=float('-inf')\n",
    "            for move in board.legal_moves:\n",
    "                board1=board.copy()\n",
    "                board1.push(move)\n",
    "                score=alphabeta(board1,a,b,False,depth-1)\n",
    "                if score >v or best_move==None:\n",
    "                    v=score\n",
    "                    if depth==maxdepth:\n",
    "                        print([\"max\",move,score])\n",
    "                        best_move=move\n",
    "                a=max(a,v)\n",
    "                if b<=a:\n",
    "                    break\n",
    "            return v\n",
    "        else:\n",
    "            v=float('inf')\n",
    "            for move in  board.legal_moves:\n",
    "                board1=board.copy()\n",
    "                board1.push(move)\n",
    "                score=alphabeta(board1,a,b,True,depth-1)\n",
    "                #v = min(v,score)\n",
    "                if v>score or best_move==None:\n",
    "                    v=score\n",
    "                    if depth==maxdepth:\n",
    "                        print([\"min\",move,score])\n",
    "                        best_move=move\n",
    "                b=min(b,v)\n",
    "                if b<=a:\n",
    "                    break\n",
    "            return v\n",
    "    alphabeta(board,a,b,maxPlayer,maxdepth)\n",
    "    return best_move\n"
   ]
  },
  {
   "cell_type": "code",
   "execution_count": null,
   "id": "25170f0d-ffac-4f1a-ab9d-e1b3219adf38",
   "metadata": {},
   "outputs": [],
   "source": []
  }
 ],
 "metadata": {
  "kernelspec": {
   "display_name": "Python 3 (ipykernel)",
   "language": "python",
   "name": "python3"
  },
  "language_info": {
   "codemirror_mode": {
    "name": "ipython",
    "version": 3
   },
   "file_extension": ".py",
   "mimetype": "text/x-python",
   "name": "python",
   "nbconvert_exporter": "python",
   "pygments_lexer": "ipython3",
   "version": "3.10.7"
  }
 },
 "nbformat": 4,
 "nbformat_minor": 5
}
