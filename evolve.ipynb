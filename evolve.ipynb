{
 "cells": [
  {
   "cell_type": "code",
   "execution_count": 1,
   "id": "17a95823-84c9-44fc-9d44-adb0e9a61288",
   "metadata": {},
   "outputs": [],
   "source": [
    "import chess\n"
   ]
  },
  {
   "cell_type": "code",
   "execution_count": 2,
   "id": "5601ab62-7239-45a3-a57c-2901c3fd1ad9",
   "metadata": {},
   "outputs": [],
   "source": [
    "def convert_to_int(board):\n",
    "    \n",
    "    l = [0] * 64\n",
    "    #l[sq] = board.piece_type_at(sq)\n",
    "    for sq in chess.scan_reversed(board.occupied_co[chess.WHITE]):  # Check if white\n",
    "        l[sq] = board.piece_type_at(sq)\n",
    "    for sq in chess.scan_reversed(board.occupied_co[chess.BLACK]):  # Check if black\n",
    "        l[sq] = -board.piece_type_at(sq) \n",
    "   \n",
    "    return  l\n"
   ]
  },
  {
   "cell_type": "code",
   "execution_count": 3,
   "id": "c7ea6516-6108-4bef-884e-7d0c368bbb04",
   "metadata": {},
   "outputs": [],
   "source": [
    "mg_pawn_table =[0,   0,   0,   0,   0,   0,  0,   0, \n",
    "                98, 134,  61,  95,  68, 126, 34, -11, \n",
    "                -6,   7,  26,  31,  65,  56, 25, -20,\n",
    "                -14,  13,   6,  21,  23,  12, 17, -23,\n",
    "                -27,  -2,  -5,  12,  17,   6, 10, -25,\n",
    "                -26,  -4,  -4, -10,   3,   3, 33, -12,\n",
    "                -35,  -1, -20, -23, -15,  24, 38, -22,\n",
    "                 0,   0,   0,   0,   0,   0,  0,   0]\n",
    "\n",
    "eg_pawn_table = [0,   0,   0,   0,   0,   0,   0,   0,\n",
    "                 178, 173, 158, 134, 147, 132, 165, 187,\n",
    "                 94, 100,  85,  67,  56,  53,  82,  84,\n",
    "                 32,  24,  13,   5,  -2,   4,  17,  17,\n",
    "                 13,   9,  -3,  -7,  -7,  -8,   3,  -1,\n",
    "                 4,   7,  -6,   1,   0,  -5,  -1,  -8,\n",
    "                 3,   8,   8,  10,  13,   0,   2,  -7,\n",
    "                 0,   0,   0,   0,   0,   0,   0,   0]\n",
    "\n",
    "mg_knight_table = [-167, -89, -34, -49,  61, -97, -15, -107,\n",
    "                   -73, -41,  72,  36,  23,  62,   7,  -17,\n",
    "                   -47,  60,  37,  65,  84, 129,  73,  44,\n",
    "                   -9,  17,  19,  53,  37,  69,  18,   22,\n",
    "                   -13,   4,  16,  13,  28,  19,  21,   -8,\n",
    "                   -23,  -9,  12,  10,  19,  17,  25,  -16,\n",
    "                   -29, -53, -12,  -3,  -1,  18, -14,  -19,\n",
    "                   -105, -21, -58, -33, -17, -28, -19,  -23]\n",
    "\n",
    "eg_knight_table = [-58, -38, -13, -28, -31, -27, -63, -99,\n",
    "                   -25,  -8, -25,  -2,  -9, -25, -24, -52,\n",
    "                   -24, -20,  10,   9,  -1,  -9, -19, -41,\n",
    "                   -17,   3,  22,  22,  22,  11,   8, -18,\n",
    "                   -18,  -6,  16,  25,  16,  17,   4, -18,\n",
    "                   -23,  -3,  -1,  15,  10,  -3, -20, -22,\n",
    "                   -42, -20, -10,  -5,  -2, -20, -23, -44,\n",
    "                   -29, -51, -23, -15, -22, -18, -50, -64]\n",
    "\n",
    "mg_bishop_table = [-29,   4, -82, -37, -25, -42,   7,  -8,\n",
    "                   -26,  16, -18, -13,  30,  59,  18, -47,\n",
    "                   -16,  37,  43,  40,  35,  50,  37,  -2,\n",
    "                   -4,   5,  19,  50,  37,  37,   7,  -2,\n",
    "                   -6,  13,  13,  26,  34,  12,  10,   4,\n",
    "                   0,  15,  15,  15,  14,  27,  18,  10,\n",
    "                   4,  15,  16,   0,   7,  21,  33,   1,\n",
    "                   -33,  -3, -14, -21, -13, -12, -39, -21]\n",
    "\n",
    "eg_bishop_table= [-14, -21, -11,  -8, -7,  -9, -17, -24,\n",
    "                  -8,  -4,   7, -12, -3, -13,  -4, -14,\n",
    "                  2,  -8,   0,  -1, -2,   6,   0,   4,\n",
    "                  -3,   9,  12,   9, 14,  10,   3,   2,\n",
    "                  -6,   3,  13,  19,  7,  10,  -3,  -9,\n",
    "                  -12,  -3,   8,  10, 13,   3,  -7, -15,\n",
    "                  -14, -18,  -7,  -1,  4,  -9, -15, -27,\n",
    "                  -23,  -9, -23,  -5, -9, -16,  -5, -17]\n",
    "\n",
    "mg_rook_table = [32,  42,  32,  51, 63,  9,  31,  43,\n",
    "                 27,  32,  58,  62, 80, 67,  26,  44,\n",
    "                 -5,  19,  26,  36, 17, 45,  61,  16,\n",
    "                 -24, -11,   7,  26, 24, 35,  -8, -20,\n",
    "                 -36, -26, -12,  -1,  9, -7,   6, -23,\n",
    "                 -45, -25, -16, -17,  3,  0,  -5, -33,\n",
    "                 -44, -16, -20,  -9, -1, 11,  -6, -71,\n",
    "                 -19, -13,   1,  17, 16,  7, -37, -26]\n",
    "\n",
    "eg_rook_table = [13, 10, 18, 15, 12,  12,   8,   5,\n",
    "                 11, 13, 13, 11, -3,   3,   8,   3,\n",
    "                 7,  7,  7,  5,  4,  -3,  -5,  -3,\n",
    "                 4,  3, 13,  1,  2,   1,  -1,   2,\n",
    "                 3,  5,  8,  4, -5,  -6,  -8, -11,\n",
    "                 -4,  0, -5, -1, -7, -12,  -8, -16,\n",
    "                 -6, -6,  0,  2, -9,  -9, -11,  -3,\n",
    "                 -9,  2,  3, -1, -5, -13,   4, -20]\n",
    "\n",
    "mg_queen_table = [-28,   0,  29,  12,  59,  44,  43,  45,\n",
    "                  -24, -39,  -5,   1, -16,  57,  28,  54,\n",
    "                  -13, -17,   7,   8,  29,  56,  47,  57,\n",
    "                  -27, -27, -16, -16,  -1,  17,  -2,   1,\n",
    "                  -9, -26,  -9, -10,  -2,  -4,   3,  -3,\n",
    "                  -14,   2, -11,  -2,  -5,   2,  14,   5,\n",
    "                  -35,  -8,  11,   2,   8,  15,  -3,   1,\n",
    "                  -1, -18,  -9,  10, -15, -25, -31, -50]\n",
    "\n",
    "eg_queen_table = [-9,  22,  22,  27,  27,  19,  10,  20,\n",
    "                  -17,  20,  32,  41,  58,  25,  30,   0,\n",
    "                  -20,   6,   9,  49,  47,  35,  19,   9,\n",
    "                  3,  22,  24,  45,  57,  40,  57,  36,\n",
    "                  -18,  28,  19,  47,  31,  34,  39,  23,\n",
    "                  -16, -27,  15,   6,   9,  17,  10,   5,\n",
    "                  -22, -23, -30, -16, -16, -23, -36, -32,\n",
    "                  -33, -28, -22, -43,  -5, -32, -20, -41]\n",
    "mg_king_table = [-65,  23,  16, -15, -56, -34,   2,  13,\n",
    "                 29,  -1, -20,  -7,  -8,  -4, -38, -29,\n",
    "                 -9,  24,   2, -16, -20,   6,  22, -22,\n",
    "                 -17, -20, -12, -27, -30, -25, -14, -36,\n",
    "                 -49,  -1, -27, -39, -46, -44, -33, -51,\n",
    "                 -14, -14, -22, -46, -44, -30, -15, -27,\n",
    "                 1,   7,  -8, -64, -43, -16,   9,   8,\n",
    "                 -15,  36,  12, -54,   8, -28,  24,  14]\n",
    "\n",
    "eg_king_table = [-74, -35, -18, -18, -11,  15,   4, -17,\n",
    "                 -12,  17,  14,  17,  17,  38,  23,  11,\n",
    "                 10,  17,  23,  15,  20,  45,  44,  13,\n",
    "                 -8,  22,  24,  27,  26,  33,  26,   3,\n",
    "                 -18,  -4,  21,  24,  27,  23,   9, -11,\n",
    "                 -19,  -3,  11,  21,  23,  16,   7,  -9,\n",
    "                 -27, -11,   4,  13,  14,   4,  -5, -17,\n",
    "                 -53, -34, -21, -11, -28, -14, -24, -43]\n"
   ]
  },
  {
   "cell_type": "code",
   "execution_count": 4,
   "id": "c2380ed5-bb7d-4495-8c8b-e5c6e52e7f61",
   "metadata": {},
   "outputs": [],
   "source": [
    "def FLIP(sq):\n",
    "    return  sq ^56"
   ]
  },
  {
   "cell_type": "code",
   "execution_count": 5,
   "id": "baa4c746-5a84-4e7c-b658-2959026c2656",
   "metadata": {},
   "outputs": [
    {
     "data": {
      "text/plain": [
       "59"
      ]
     },
     "execution_count": 5,
     "metadata": {},
     "output_type": "execute_result"
    }
   ],
   "source": [
    "FLIP(3)"
   ]
  },
  {
   "cell_type": "code",
   "execution_count": 6,
   "id": "018b9539-d25d-4163-8555-6ccf9f765f72",
   "metadata": {},
   "outputs": [],
   "source": [
    "gamephaseInc = [0,1,1,2,4,0]\n"
   ]
  },
  {
   "cell_type": "code",
   "execution_count": 7,
   "id": "d3114d57-a13e-4fdb-9970-08aa191f3f58",
   "metadata": {},
   "outputs": [],
   "source": [
    "mg_value = {0:82,\n",
    "            1:337,\n",
    "            2:365, \n",
    "            3:477,\n",
    "            4:1025,  \n",
    "            5:0}\n",
    "eg_value = {0: 94,\n",
    "            1:281,\n",
    "            2:297, \n",
    "            3:512,\n",
    "            4: 936,\n",
    "            5:0}\n"
   ]
  },
  {
   "cell_type": "code",
   "execution_count": 8,
   "id": "cc8a44b2-f184-4caa-8e1e-9d703647c372",
   "metadata": {},
   "outputs": [],
   "source": [
    "mg_table = []\n",
    "eg_table = [] \n",
    "for i in range(12):\n",
    "    mg_table.append( [0]*64)\n",
    "    eg_table.append([0]*64)\n"
   ]
  },
  {
   "cell_type": "code",
   "execution_count": 9,
   "id": "1a69aaef-139d-4c4b-85f9-c1d77c0e6f09",
   "metadata": {},
   "outputs": [],
   "source": [
    "middle_result = { 0 :mg_pawn_table,\n",
    "                 1: mg_knight_table,\n",
    "                 2: mg_bishop_table,\n",
    "                 3: mg_rook_table,\n",
    "                 4:mg_queen_table,\n",
    "                 5:mg_king_table\n",
    "}\n",
    "\n",
    "endgame_result = { 0 :eg_pawn_table,\n",
    "                 1: eg_knight_table,\n",
    "                 2: eg_bishop_table,\n",
    "                 3: eg_rook_table,\n",
    "                 4:eg_queen_table,\n",
    "                 5:eg_king_table\n",
    "}"
   ]
  },
  {
   "cell_type": "code",
   "execution_count": 10,
   "id": "0cb6afda-f2a0-44e0-ab7c-2ce897243446",
   "metadata": {},
   "outputs": [],
   "source": [
    "dictionary_move={\n",
    "    'a':0,\n",
    "    'b':1,\n",
    "    'c':2,\n",
    "    'd':3,\n",
    "    'e': 4,\n",
    "    'f':5,\n",
    "    'g':6,\n",
    "    'h':7,\n",
    "    1:0,\n",
    "    2:1,\n",
    "    3:2,\n",
    "    4:3,\n",
    "    5: 4,\n",
    "    6:5,\n",
    "    7:6,\n",
    "    8:7\n",
    "}\n"
   ]
  },
  {
   "cell_type": "code",
   "execution_count": 11,
   "id": "090f45df-3505-4419-b65f-90f4d82024af",
   "metadata": {},
   "outputs": [],
   "source": [
    "for i in range(6) :\n",
    "    for sq in range(64) : \n",
    "        mg_table[i]  [sq] = mg_value[i] + middle_result[i][sq]\n",
    "        eg_table[i]  [sq] = eg_value[i] + endgame_result[i][sq]\n",
    "        mg_table[i+6][sq] = mg_value[i] + middle_result[i][FLIP(sq)]\n",
    "        eg_table[i+6][sq] = eg_value[i] + endgame_result[i][FLIP(sq)]\n",
    "\n"
   ]
  },
  {
   "cell_type": "code",
   "execution_count": 46,
   "id": "75feb4ac-50bf-4b32-b38d-97c9dfc34fa4",
   "metadata": {},
   "outputs": [],
   "source": [
    "def eval(board):\n",
    "    gamePhase,mgScore,egScore=0,0,0\n",
    "    wmg=0 \n",
    "    bmg=0 \n",
    "    weg =0\n",
    "    beg=0\n",
    "    intBoard=convert_to_int(board)\n",
    "\n",
    "    for i in range(len(intBoard)) :\n",
    "        sq = intBoard[i]\n",
    "        if sq == 0:\n",
    "            continue\n",
    "        if sq >0:\n",
    "            wmg = wmg+ mg_table[sq-1][i] \n",
    "            weg = weg+eg_table[sq-1][i] \n",
    "            gamePhase =gamePhase+ gamephaseInc[sq-1]\n",
    "        else:\n",
    "            bmg = bmg +mg_table[-sq+5][i] \n",
    "            beg = beg +eg_table[-sq+5][i] \n",
    "            gamePhase =gamePhase+ gamephaseInc[-sq-1]\n",
    "    if board.turn:\n",
    "        mgScore = wmg - bmg \n",
    "        egScore = weg - beg \n",
    "    else:\n",
    "        mgScore = bmg - wmg   \n",
    "        egScore =  beg - weg          \n",
    "    mgPhase = gamePhase\n",
    "    if mgPhase > 24 :\n",
    "        mgPhase = 24 \n",
    "    egPhase = 24 - mgPhase\n",
    "    res= (mgScore * mgPhase + egScore * egPhase) / 24\n",
    "\n",
    "\n",
    "    return   res\n"
   ]
  },
  {
   "cell_type": "code",
   "execution_count": 50,
   "id": "7b4941f6-c916-408b-87ca-c4209e08c0b8",
   "metadata": {},
   "outputs": [],
   "source": [
    "board=chess.Board('7r/4kppp/8/2R5/4P3/7P/5PPK/r7 w - - 2 28')\n"
   ]
  },
  {
   "cell_type": "code",
   "execution_count": 51,
   "id": "41bd75a3-c634-4963-b5aa-d68c873c5e12",
   "metadata": {},
   "outputs": [
    {
     "data": {
      "text/plain": [
       "-497.25"
      ]
     },
     "execution_count": 51,
     "metadata": {},
     "output_type": "execute_result"
    }
   ],
   "source": [
    "eval(board)"
   ]
  },
  {
   "cell_type": "code",
   "execution_count": null,
   "id": "b759df3c-1642-42bf-ba0b-05b373b7da90",
   "metadata": {},
   "outputs": [],
   "source": []
  }
 ],
 "metadata": {
  "kernelspec": {
   "display_name": "Python 3 (ipykernel)",
   "language": "python",
   "name": "python3"
  },
  "language_info": {
   "codemirror_mode": {
    "name": "ipython",
    "version": 3
   },
   "file_extension": ".py",
   "mimetype": "text/x-python",
   "name": "python",
   "nbconvert_exporter": "python",
   "pygments_lexer": "ipython3",
   "version": "3.10.7"
  }
 },
 "nbformat": 4,
 "nbformat_minor": 5
}
